{
 "cells": [
  {
   "cell_type": "code",
   "execution_count": null,
   "metadata": {},
   "outputs": [],
   "source": [
    "https://learnpython.com/blog/sort-tuples-in-python/"
   ]
  },
  {
   "cell_type": "code",
   "execution_count": 35,
   "metadata": {},
   "outputs": [],
   "source": [
    "import numpy as np \n",
    "import matplotlib.pyplot as plt\n"
   ]
  },
  {
   "cell_type": "code",
   "execution_count": 36,
   "metadata": {},
   "outputs": [
    {
     "name": "stdout",
     "output_type": "stream",
     "text": [
      "array shape: (2, 10)\n",
      "x_valyes [2.5 0.5 2.2 1.9 3.1 2.3 2.  1.  1.5 1.1]\n",
      "y_valyes [2.4 0.7 2.9 2.2 3.  2.7 1.6 1.1 1.6 0.9]\n"
     ]
    }
   ],
   "source": [
    "#create 2d data \n",
    "a = np.array([[2.5, 0.5, 2.2, 1.9, 3.1, 2.3, 2, 1, 1.5, 1.1], \n",
    "              [2.4, 0.7, 2.9, 2.2, 3.0, 2.7, 1.6, 1.1, 1.6, 0.9]])\n",
    "\n",
    "print('array shape:', a.shape)\n",
    "x_values = a[0, :] #first row and all columns \n",
    "y_values = a[1, :] #second row and all columns \n",
    "\n",
    "print('x_valyes', x_values)\n",
    "print('y_valyes', y_values)"
   ]
  },
  {
   "cell_type": "markdown",
   "metadata": {},
   "source": [
    "# Step 1: Standardize the data"
   ]
  },
  {
   "cell_type": "code",
   "execution_count": 38,
   "metadata": {},
   "outputs": [
    {
     "name": "stdout",
     "output_type": "stream",
     "text": [
      "all means: [1.81 1.91]\n",
      "x_mean 1.81\n",
      "y_mean 1.9100000000000001\n"
     ]
    }
   ],
   "source": [
    "#compute the mean \n",
    "\n",
    "#the mean of the x values of all the data points \n",
    "mean_across_rows = np.mean(a, axis= 1)\n",
    "x_mean = mean_across_rows[0]\n",
    "#the mean of the y values of all the data points \n",
    "y_mean = mean_across_rows[1]\n",
    "\n",
    "print('all means:', mean_across_rows)\n",
    "print('x_mean', x_mean)\n",
    "print('y_mean',y_mean)"
   ]
  },
  {
   "cell_type": "code",
   "execution_count": 39,
   "metadata": {},
   "outputs": [
    {
     "name": "stdout",
     "output_type": "stream",
     "text": [
      "adjusted x_values: [ 0.69 -1.31  0.39  0.09  1.29  0.49  0.19 -0.81 -0.31 -0.71]\n",
      "adjusted y_values: [ 0.49 -1.21  0.99  0.29  1.09  0.79 -0.31 -0.81 -0.31 -1.01]\n"
     ]
    }
   ],
   "source": [
    "adjusted_x_values = x_values - x_mean\n",
    "print('adjusted x_values:', adjusted_x_values)\n",
    "\n",
    "\n",
    "adjusted_y_values = y_values - y_mean\n",
    "print('adjusted y_values:', adjusted_y_values)"
   ]
  },
  {
   "cell_type": "code",
   "execution_count": 40,
   "metadata": {},
   "outputs": [
    {
     "name": "stdout",
     "output_type": "stream",
     "text": [
      "adjusted_a (matrix after subtracting the mean): \n",
      " [[ 0.69 -1.31  0.39  0.09  1.29  0.49  0.19 -0.81 -0.31 -0.71]\n",
      " [ 0.49 -1.21  0.99  0.29  1.09  0.79 -0.31 -0.81 -0.31 -1.01]]\n"
     ]
    }
   ],
   "source": [
    "adjusted_a = np.empty((2, 10))\n",
    "adjusted_a[0, :] = adjusted_x_values\n",
    "adjusted_a[1, :] = adjusted_y_values\n",
    "print('adjusted_a (matrix after subtracting the mean): \\n', adjusted_a)"
   ]
  },
  {
   "cell_type": "code",
   "execution_count": 59,
   "metadata": {},
   "outputs": [
    {
     "data": {
      "image/png": "[encoded data removed]",
      "text/plain": [
       "<Figure size 640x480 with 1 Axes>"
      ]
     },
     "metadata": {},
     "output_type": "display_data"
    }
   ],
   "source": [
    "#print orginal and adjusted values \n",
    "#plt.plot([1, 2, 3, 4])\n",
    "#plt.plot([1, 2, 3, 4], [1, 4, 9, 16], 'ro')\n",
    "\n",
    "#a = np.array([[2.5, 0.5, 2.2, 1.9, 3.1, 2.3, 2, 1, 1.5, 1.1], \n",
    "#              [2.4, 0.7, 2.9, 2.2, 3.0, 2.7, 1.6, 1.1, 1.6, 0.9]])\n",
    "#a = np.array([[2.5, 0.5], \n",
    "#              [2.4, 0.7]])\n",
    "#plt.plot(a, 'ro')\n",
    "plt.plot(x_values, y_values, 'ro')\n",
    "plt.plot(adjusted_x_values, adjusted_y_values, 'go')\n",
    "plt.ylabel('some numbers')\n",
    "plt.show()\n"
   ]
  },
  {
   "cell_type": "markdown",
   "metadata": {},
   "source": [
    "# Step 2: Find the covariance matrix "
   ]
  },
  {
   "cell_type": "code",
   "execution_count": 41,
   "metadata": {},
   "outputs": [
    {
     "name": "stdout",
     "output_type": "stream",
     "text": [
      "covariance matrix:\n",
      " [[0.61655556 0.61544444]\n",
      " [0.61544444 0.71655556]]\n"
     ]
    }
   ],
   "source": [
    "covariance = np.cov(adjusted_a)\n",
    "print('covariance matrix:\\n', covariance)\n"
   ]
  },
  {
   "cell_type": "markdown",
   "metadata": {},
   "source": [
    "# Step 3: Find the eigenvectors and eigenvalues of the covariance matrix \n"
   ]
  },
  {
   "cell_type": "code",
   "execution_count": 42,
   "metadata": {},
   "outputs": [
    {
     "name": "stdout",
     "output_type": "stream",
     "text": [
      "eigenvalues:\n",
      " [0.0490834  1.28402771]\n",
      "eigenvectors:\n",
      " [[-0.73517866 -0.6778734 ]\n",
      " [ 0.6778734  -0.73517866]]\n"
     ]
    }
   ],
   "source": [
    "eigenvalues, eigenvectors = np.linalg.eig(covariance)\n",
    "#eigen vectors are the lines that charectrise the data \n",
    "#eigen values are the ranks to these vectors, the higher the eigen value the more important the eigen vector \n",
    "#the eigen vector with the highest eigen value is the principal compinent of the dataset \n",
    "print('eigenvalues:\\n',eigenvalues) #1.28 means that the second vector is more important because it has a higher eigen value \n",
    "print('eigenvectors:\\n',eigenvectors)"
   ]
  },
  {
   "cell_type": "markdown",
   "metadata": {},
   "source": [
    "# Step 4: Rearrange the eigenvectors and eigenvalues"
   ]
  },
  {
   "cell_type": "code",
   "execution_count": 78,
   "metadata": {},
   "outputs": [
    {
     "name": "stdout",
     "output_type": "stream",
     "text": [
      "feature vector BEFORE arrangment:\n",
      " [(0.04908339893832736, array([-0.73517866,  0.6778734 ])), (1.2840277121727839, array([-0.6778734 , -0.73517866]))]\n",
      "feature vector AFTER arrangment:\n",
      " [(1.2840277121727839, array([-0.6778734 , -0.73517866])), (0.04908339893832736, array([-0.73517866,  0.6778734 ]))]\n"
     ]
    }
   ],
   "source": [
    "# We first make a list of (eigenvalue, eigenvector) tuples\n",
    "eigen_pairs = [] #eigen_pairs \n",
    "for i in range(len(eigenvalues)):\n",
    "        eigen_pairs.append((eigenvalues[i], eigenvectors[:, i])) #take the first col and all the rows\n",
    "print('feature vector BEFORE arrangment:\\n', eigen_pairs)\n",
    "\n",
    "#arrange from highest to lowest \n",
    "#feature_vector = sorted(eigen_pairs, key=lambda tup: tup[0], reverse=True)\n",
    "\n",
    "feature_vector = sorted(eigen_pairs,key=lambda a: a[0], reverse=True)#descending order \n",
    "print('feature vector AFTER arrangment:\\n', feature_vector)\n",
    "\n",
    "eig_vals_sorted = np.array([x[0] for x in feature_vector])\n",
    "eig_vecs_sorted = np.array([x[1] for x in feature_vector])\n"
   ]
  },
  {
   "cell_type": "markdown",
   "metadata": {},
   "source": [
    "# Step 5: Choose principal components\n"
   ]
  },
  {
   "cell_type": "code",
   "execution_count": 89,
   "metadata": {},
   "outputs": [
    {
     "name": "stdout",
     "output_type": "stream",
     "text": [
      "[-0.82797019  1.77758033 -0.99219749 -0.27421042 -1.67580142 -0.9129491\n",
      "  0.09910944  1.14457216  0.43804614  1.22382056]\n",
      "[-0.17511531  0.14285723  0.38437499  0.13041721 -0.20949846  0.17528244\n",
      " -0.3498247   0.04641726  0.01776463 -0.16267529]\n"
     ]
    }
   ],
   "source": [
    "#transform the data so it can be expressed in terms of the eigenvectors \n",
    "# Select top k eigenvectors (MANUALLY)\n",
    "final_x_data = eig_vecs_sorted[0].dot(adjusted_a)\n",
    "print(final_x_data)\n",
    "\n",
    "final_y_data = eig_vecs_sorted[1].dot(adjusted_a)\n",
    "print(final_y_data)\n",
    "\n"
   ]
  },
  {
   "cell_type": "code",
   "execution_count": 105,
   "metadata": {},
   "outputs": [
    {
     "name": "stdout",
     "output_type": "stream",
     "text": [
      "[[-0.82797019  1.77758033 -0.99219749 -0.27421042 -1.67580142 -0.9129491\n",
      "   0.09910944  1.14457216  0.43804614  1.22382056]\n",
      " [-0.17511531  0.14285723  0.38437499  0.13041721 -0.20949846  0.17528244\n",
      "  -0.3498247   0.04641726  0.01776463 -0.16267529]]\n"
     ]
    }
   ],
   "source": [
    "final_data = eig_vecs_sorted.dot(adjusted_a)\n",
    "print(final_data)"
   ]
  },
  {
   "cell_type": "code",
   "execution_count": 104,
   "metadata": {},
   "outputs": [
    {
     "data": {
      "image/png": "[encoded data removed]",
      "text/plain": [
       "<Figure size 640x480 with 1 Axes>"
      ]
     },
     "metadata": {},
     "output_type": "display_data"
    }
   ],
   "source": [
    "plt.plot(x_values, y_values, 'ro')\n",
    "plt.plot(adjusted_x_values, adjusted_y_values, 'go')\n",
    "plt.plot(final_x_data, final_y_data, 'bo')\n",
    "plt.ylabel('some numbers')\n",
    "plt.show()\n"
   ]
  },
  {
   "cell_type": "code",
   "execution_count": 103,
   "metadata": {},
   "outputs": [
    {
     "name": "stdout",
     "output_type": "stream",
     "text": [
      "PCA 0 is the most important vector\n",
      "PCA 0\n",
      "[-0.82797019  1.77758033 -0.99219749 -0.27421042 -1.67580142 -0.9129491\n",
      "  0.09910944  1.14457216  0.43804614  1.22382056]\n",
      "PCA 0 is the most important vector\n",
      "PCA 1\n",
      "[-0.17511531  0.14285723  0.38437499  0.13041721 -0.20949846  0.17528244\n",
      " -0.3498247   0.04641726  0.01776463 -0.16267529]\n"
     ]
    }
   ],
   "source": [
    "# Select top k eigenvectors (AUTOMATICALLY)\n",
    "k= 2 \n",
    "\n",
    "for i in range(k):\n",
    "    final_data = eig_vecs_sorted[i].dot(adjusted_a) #eig_vecs_sorted is the same as row feature vector in the pca tutorial by Lindsay Smith ,page 19\n",
    "    print('PCA 0 is the most important vector')\n",
    "    print('PCA', i)\n",
    "    print(final_data)\n"
   ]
  },
  {
   "cell_type": "markdown",
   "metadata": {},
   "source": [
    "# Step 6: Getting the old data back "
   ]
  },
  {
   "cell_type": "code",
   "execution_count": 109,
   "metadata": {},
   "outputs": [
    {
     "name": "stdout",
     "output_type": "stream",
     "text": [
      "[[2.5 0.5 2.2 1.9 3.1 2.3 2.  1.  1.5 1.1]\n",
      " [2.4 0.7 2.9 2.2 3.  2.7 1.6 1.1 1.6 0.9]]\n"
     ]
    }
   ],
   "source": [
    "final_data = eig_vecs_sorted.dot(adjusted_a)\n",
    "\n",
    "\n",
    "original_data = eig_vecs_sorted.dot(final_data)\n",
    "original_data[0, :]  = original_data[0, :] + x_mean\n",
    "original_data[1, :]  = original_data[1, :] + y_mean\n",
    "\n",
    "print(original_data)\n",
    "\n"
   ]
  }
 ],
 "metadata": {
  "kernelspec": {
   "display_name": "tps",
   "language": "python",
   "name": "python3"
  },
  "language_info": {
   "codemirror_mode": {
    "name": "ipython",
    "version": 3
   },
   "file_extension": ".py",
   "mimetype": "text/x-python",
   "name": "python",
   "nbconvert_exporter": "python",
   "pygments_lexer": "ipython3",
   "version": "3.8.16"
  }
 },
 "nbformat": 4,
 "nbformat_minor": 2
}
